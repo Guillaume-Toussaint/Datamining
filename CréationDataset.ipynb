{
 "cells": [
  {
   "cell_type": "code",
   "execution_count": null,
   "metadata": {},
   "outputs": [],
   "source": []
  },
  {
   "cell_type": "markdown",
   "metadata": {},
   "source": [
    "Colonnes que l'on garde (et transfo)\n",
    "\n",
    "Année de constr du logement (ACHLR 3) : 1 à 8 (de avant 1919 à depuis 2014 et hors logement ordinaire)\n",
    "\n",
    "\n",
    "\n",
    "Ager20 (on vire les autres age par rapport aux personnes)\n",
    "ANEMR \n",
    "APAF\n",
    "ASCEN\n",
    "CATL (catégorie de logement)\n",
    "CMBL\n",
    "COUPLE\n",
    "CS1 (catégorie sociso-pro) au lieux de CS2 et CS3 parce que pas besoin d’autant de précision\n",
    "DEIPL_15\n",
    "ETUD\n",
    "HLML\n",
    "ILETUU et ILTUU\n",
    "INAI\n",
    "INFAM (nombre de famille du ménage)\n",
    "Moco (mode cohabitation)\n",
    "NBPI (Nombre pièce du logement)\n",
    "NPERR (Nombre de personne du ménage)\n",
    "Rech (ancienneté de recherche d’emploi)\n",
    "Sani (Installation sanitaire)\n",
    "Stocd (statut occupation détaillé du logement)\n",
    "Surf (superficie du logement)\n",
    "TRANS (mode de transport le plus souvent utilisé pour aller travailler)\n"
   ]
  },
  {
   "cell_type": "code",
   "execution_count": 56,
   "metadata": {},
   "outputs": [
    {
     "name": "stdout",
     "output_type": "stream",
     "text": [
      "{'AGER20': 6, 'ANEMR': 12, 'APAF': 13, 'ASCEN': 15, 'CATL': 18, 'CMBL': 24, 'COUPLE': 25, 'CS1': 26, 'ETUD': 38, 'HLML': 40, 'ILETUU': 42, 'ILTUU': 44, 'INAI': 46, 'INFAM': 48, 'MOCO': 58, 'NBPI': 70, 'NPERR': 71, 'RECH': 76, 'SANI': 77, 'STOCD': 83, 'SURF': 84, 'TRANS': 88}\n"
     ]
    }
   ],
   "source": [
    "\n",
    "data = open(\"GrandEst\",'r')\n",
    "data2 = data\n",
    "\n",
    "cols_noms = [\"AGER20\",\"ANEMR\",\"APAF\",\"ASCEN\",\"CATL\",\"CMBL\",\"COUPLE\",\"CS1\",\"DEIPL_15\",\"ETUD\",\"HLML\",\"ILETUU\",\"ILTUU\",\"INAI\",\"INFAM\",\"MOCO\"\n",
    "            , \"NBPI\",\"NPERR\",\"RECH\",\"SANI\",\"STOCD\",\"SURF\",\"TRANS\"] #### Noms ds colonnes qui intéressent\n",
    "\n",
    "cols = data.readline()\n",
    "\n",
    "\n",
    "\n",
    "cols_indice = dict()\n",
    "\n",
    "noms = cols.split(\";\")\n",
    "\n",
    "k=0 #Constitution d'un tableau avec les indices des colonnes que l'on conserve pour créer le nouveau dataset\n",
    "for n in noms:\n",
    "    if n in cols_noms:\n",
    "        cols_indice[n] = k\n",
    "    k+=1\n",
    "\n",
    "    \n",
    "print(cols_indice)\n",
    "\n",
    "\n",
    "    "
   ]
  },
  {
   "cell_type": "code",
   "execution_count": null,
   "metadata": {},
   "outputs": [],
   "source": [
    "##Création d'un dataset réduit qui contient les colonnes qui nous intéressent"
   ]
  },
  {
   "cell_type": "code",
   "execution_count": 57,
   "metadata": {},
   "outputs": [],
   "source": [
    "\n",
    "\"\"\"\n",
    "outfile = open(\"data.txt\",'wt')\n",
    "\n",
    "for i in range(len(cols_noms)):\n",
    "    outfile.write(cols_noms[i])\n",
    "    \n",
    "    if i<(len(cols_noms)-1):\n",
    "        outfile.write(\";\")\n",
    "    outfile.flush()\n",
    "    \n",
    "outfile.write(\"\\n\")\n",
    "outfile.close()\n",
    "\"\"\"\n",
    "        \n",
    "\n",
    "#outfile = open(\"data.txt\",'a')\n",
    "outfile = open(\"data.txt\",'wt')\n",
    "for d in data:\n",
    "    ligne = d.split(\";\")\n",
    "    #print(ligne)\n",
    "    to_print = \"\"\n",
    "    for v in cols_indice.values():\n",
    "        to_print+=ligne[v]+\",\"\n",
    "        #print(to_print)\n",
    "    to_print = to_print[:-1]\n",
    "    #print(to_print)\n",
    "    outfile.write(to_print+\"\\n\")\n",
    "    outfile.flush()\n",
    "outfile.close()"
   ]
  },
  {
   "cell_type": "code",
   "execution_count": null,
   "metadata": {},
   "outputs": [],
   "source": []
  },
  {
   "cell_type": "code",
   "execution_count": null,
   "metadata": {},
   "outputs": [],
   "source": [
    "##Traitement pour transformer le nouveau dataset en fichier exploitable par spmf"
   ]
  },
  {
   "cell_type": "code",
   "execution_count": null,
   "metadata": {},
   "outputs": [],
   "source": []
  },
  {
   "cell_type": "code",
   "execution_count": null,
   "metadata": {},
   "outputs": [],
   "source": [
    "## Partie suivante pour exploiter après utilisation par spmf"
   ]
  },
  {
   "cell_type": "code",
   "execution_count": null,
   "metadata": {},
   "outputs": [],
   "source": []
  }
 ],
 "metadata": {
  "kernelspec": {
   "display_name": "Python 3",
   "language": "python",
   "name": "python3"
  },
  "language_info": {
   "codemirror_mode": {
    "name": "ipython",
    "version": 3
   },
   "file_extension": ".py",
   "mimetype": "text/x-python",
   "name": "python",
   "nbconvert_exporter": "python",
   "pygments_lexer": "ipython3",
   "version": "3.8.5"
  }
 },
 "nbformat": 4,
 "nbformat_minor": 4
}
